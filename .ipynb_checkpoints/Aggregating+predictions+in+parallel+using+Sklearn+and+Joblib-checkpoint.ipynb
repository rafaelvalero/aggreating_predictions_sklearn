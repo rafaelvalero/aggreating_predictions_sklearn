{
 "cells": [
  {
   "cell_type": "markdown",
   "metadata": {},
   "source": [
    "\n",
    "# Answer\n",
    "The best way to do it (as far as I know is using methods http://scikit-learn.org/stable/modules/ensemble.html#forest.\n",
    "\n",
    "\n",
    "# Question \n",
    "in Stackoverflow [here][4].\n",
    "\n",
    "When training the model the results depend on the sampling. In order to obtain something better you could repeat the training (in another randomly create training sample, using [Ffolds][1], [StratifiedKFold][2] ... ), somehow aggregate the results and have this way a result that will be more robust that one create in a particular case alone. **Question: is it already implemented in sklearn or similar?**. Apologies is this is a straighforward question, I haven't see a simple solution.\n",
    "\n",
    "I see that there is a function called [cross_val_predict][3] however my first impresion having a quick look to the source code is that it predecits as many times as trains and I would like to predicts only ones, so I can piclke the, somehow aggregate results, and predict later, instead of repeat the whole training thing again.\n",
    "\n",
    "\n",
    "  [1]: http://scikit-learn.org/stable/modules/generated/sklearn.model_selection.KFold.html#sklearn.model_selection.KFold\n",
    "  [2]: http://scikit-learn.org/stable/modules/generated/sklearn.model_selection.StratifiedKFold.html#sklearn.model_selection.StratifiedKFold\n",
    "  [3]: http://scikit-learn.org/stable/modules/generated/sklearn.model_selection.cross_val_predict.html\n",
    "  [4]: https://stackoverflow.com/q/49262367/7127519\n",
    "\n",
    "# Objectives\n",
    "\n",
    "* Create a training function that train the model many time and store the results.\n",
    "* Create a function that collect previous trained model and provide predictions.\n",
    "* I want to do it in parallel using joblib [this library is used to parallelize in Sklearn]\n",
    "\n",
    "# Why\n",
    "\n",
    "\n",
    "1. For deployment we may prefer and estimator aggregate as the second one, which provide a most consistent prediction accurracy than the first one.\n",
    "2. When you parallelize the process could be interesting to be able to aggregate the results later.\n",
    "\n",
    "You can see below a real and example.\n",
    "\n",
    "References\n",
    "\n",
    "1. http://scikit-learn.org/stable/modules/cross_validation.html#cross-validation\n",
    "2. https://stackoverflow.com/questions/41458834/how-is-scikit-learn-cross-val-predict-accuracy-score-calculated\n",
    "3. For mmap https://pythonhosted.org/joblib/parallel.html#automated-array-to-memmap-conversion\n",
    "\n",
    "\n",
    "\n",
    "15 March 2018 Rafael Valero Fernandez"
   ]
  },
  {
   "cell_type": "code",
   "execution_count": null,
   "metadata": {
    "collapsed": true
   },
   "outputs": [],
   "source": []
  },
  {
   "cell_type": "code",
   "execution_count": 2,
   "metadata": {
    "collapsed": false
   },
   "outputs": [],
   "source": [
    "import matplotlib.pyplot as plt\n",
    "\n",
    "import sklearn.metrics as metrics"
   ]
  },
  {
   "cell_type": "code",
   "execution_count": 3,
   "metadata": {
    "collapsed": false
   },
   "outputs": [
    {
     "data": {
      "text/plain": [
       "((150, 4), (150,))"
      ]
     },
     "execution_count": 3,
     "metadata": {},
     "output_type": "execute_result"
    }
   ],
   "source": [
    "# Taking example with iris data\n",
    "\n",
    "import numpy as np\n",
    "from sklearn.model_selection import train_test_split\n",
    "from sklearn import datasets\n",
    "from sklearn import svm\n",
    "\n",
    "iris = datasets.load_iris()\n",
    "iris.data.shape, iris.target.shape"
   ]
  },
  {
   "cell_type": "code",
   "execution_count": 4,
   "metadata": {
    "collapsed": false
   },
   "outputs": [],
   "source": [
    "#iris"
   ]
  },
  {
   "cell_type": "code",
   "execution_count": 5,
   "metadata": {
    "collapsed": true
   },
   "outputs": [],
   "source": [
    "X = iris.data\n",
    "y = iris.target"
   ]
  },
  {
   "cell_type": "code",
   "execution_count": 6,
   "metadata": {
    "collapsed": false
   },
   "outputs": [
    {
     "data": {
      "text/plain": [
       "0.9666666666666667"
      ]
     },
     "execution_count": 6,
     "metadata": {},
     "output_type": "execute_result"
    }
   ],
   "source": [
    "# Checking the quality of the results of one explit\n",
    "X_train, X_test, y_train, y_test = train_test_split(\n",
    "     X, y, test_size=0.4, random_state=0)\n",
    "\n",
    "X_train.shape, y_train.shape\n",
    "\n",
    "X_test.shape, y_test.shape\n",
    "\n",
    "\n",
    "clf = svm.SVC(kernel='linear', C=1).fit(X_train, y_train)\n",
    "clf.score(X_test, y_test)    "
   ]
  },
  {
   "cell_type": "code",
   "execution_count": 7,
   "metadata": {
    "collapsed": false
   },
   "outputs": [
    {
     "data": {
      "text/plain": [
       "0.95"
      ]
     },
     "execution_count": 7,
     "metadata": {},
     "output_type": "execute_result"
    }
   ],
   "source": [
    "# Create  function to systematize the previous case.\n",
    "def score_test(X,y,model = svm.SVC(kernel='linear', C=1),test_size=0.4, random_state=0):\n",
    "    '''Create  function to systematize the previous case.'''\n",
    "    X_train, X_test, y_train, y_test = train_test_split(\n",
    "                X, y, test_size=test_size, random_state=random_state)\n",
    "    model.fit(X_train, y_train)\n",
    "    return model.score(X_test, y_test) \n",
    "score_test(X,y,model = svm.SVC(kernel='linear', C=1),test_size=0.4, random_state=None)"
   ]
  },
  {
   "cell_type": "code",
   "execution_count": 8,
   "metadata": {
    "collapsed": false
   },
   "outputs": [
    {
     "data": {
      "text/plain": [
       "(array([ 2.,  0., 16.,  0.,  0., 30.,  0., 40.,  0., 12.]),\n",
       " array([0.93333333, 0.94      , 0.94666667, 0.95333333, 0.96      ,\n",
       "        0.96666667, 0.97333333, 0.98      , 0.98666667, 0.99333333,\n",
       "        1.        ]),\n",
       " <a list of 10 Patch objects>)"
      ]
     },
     "execution_count": 8,
     "metadata": {},
     "output_type": "execute_result"
    },
    {
     "data": {
      "image/png": "[encoded data removed]",
      "text/plain": [
       "<matplotlib.figure.Figure at 0x7f05acacacd0>"
      ]
     },
     "metadata": {},
     "output_type": "display_data"
    }
   ],
   "source": [
    "#Create  function to REPEAT the previous case.\n",
    "def repeat_score_test( X, y,\n",
    "            model = svm.SVC(kernel='linear', C=1),\n",
    "            test_size=0.4, random_state=None, \n",
    "            repetitions = 5):\n",
    "    '''Create  function to repeat the previous case.'''\n",
    "    \n",
    "    \n",
    "    auxiliar_list = []\n",
    "    for i in range(0,repetitions):\n",
    "        score = score_test(X,y,model =model,test_size=test_size, random_state=random_state)\n",
    "        auxiliar_list.append(score)\n",
    "    return np.asarray(auxiliar_list)\n",
    "scores_model =repeat_score_test( X, y,\n",
    "            model = svm.SVC(kernel='linear', C=1),\n",
    "            test_size=0.4, random_state=None, \n",
    "            repetitions = 100)\n",
    "plt.hist(scores_model) "
   ]
  },
  {
   "cell_type": "code",
   "execution_count": 9,
   "metadata": {
    "collapsed": false
   },
   "outputs": [
    {
     "data": {
      "text/plain": [
       "(array([  0.,   0.,   0.,   0.,   0., 100.,   0.,   0.,   0.,   0.]),\n",
       " array([0.48, 0.58, 0.68, 0.78, 0.88, 0.98, 1.08, 1.18, 1.28, 1.38, 1.48]),\n",
       " <a list of 10 Patch objects>)"
      ]
     },
     "execution_count": 9,
     "metadata": {},
     "output_type": "execute_result"
    },
    {
     "data": {
      "image/png": "[encoded data removed]",
      "text/plain": [
       "<matplotlib.figure.Figure at 0x7f05aeae42d0>"
      ]
     },
     "metadata": {},
     "output_type": "display_data"
    }
   ],
   "source": [
    "# Function to score cross_val_predict\n",
    "from sklearn.model_selection import cross_val_predict\n",
    "def cross_val_predict_score(clf, X, y, cv=5, repetitions = 5):\n",
    "    auxiliar_list = []\n",
    "    for i in range(0,repetitions):\n",
    "        predicted = cross_val_predict(clf, X, y, cv=cv)\n",
    "        score = metrics.accuracy_score(y, predicted)\n",
    "        auxiliar_list.append(score)\n",
    "    return np.asarray(auxiliar_list)\n",
    "scores_model_with_cv = cross_val_predict_score(clf, X, y, cv=5,             repetitions = 100)\n",
    "plt.hist(scores_model_with_cv) "
   ]
  },
  {
   "cell_type": "code",
   "execution_count": 10,
   "metadata": {
    "collapsed": false
   },
   "outputs": [
    {
     "data": {
      "text/plain": [
       "array([0.98, 0.98, 0.98, 0.98, 0.98, 0.98, 0.98, 0.98, 0.98, 0.98, 0.98,\n",
       "       0.98, 0.98, 0.98, 0.98, 0.98, 0.98, 0.98, 0.98, 0.98, 0.98, 0.98,\n",
       "       0.98, 0.98, 0.98, 0.98, 0.98, 0.98, 0.98, 0.98, 0.98, 0.98, 0.98,\n",
       "       0.98, 0.98, 0.98, 0.98, 0.98, 0.98, 0.98, 0.98, 0.98, 0.98, 0.98,\n",
       "       0.98, 0.98, 0.98, 0.98, 0.98, 0.98, 0.98, 0.98, 0.98, 0.98, 0.98,\n",
       "       0.98, 0.98, 0.98, 0.98, 0.98, 0.98, 0.98, 0.98, 0.98, 0.98, 0.98,\n",
       "       0.98, 0.98, 0.98, 0.98, 0.98, 0.98, 0.98, 0.98, 0.98, 0.98, 0.98,\n",
       "       0.98, 0.98, 0.98, 0.98, 0.98, 0.98, 0.98, 0.98, 0.98, 0.98, 0.98,\n",
       "       0.98, 0.98, 0.98, 0.98, 0.98, 0.98, 0.98, 0.98, 0.98, 0.98, 0.98,\n",
       "       0.98])"
      ]
     },
     "execution_count": 10,
     "metadata": {},
     "output_type": "execute_result"
    }
   ],
   "source": [
    "scores_model_with_cv"
   ]
  },
  {
   "cell_type": "markdown",
   "metadata": {},
   "source": [
    "# Key points\n",
    "As you can see from previous too models there is variation is reduced a lot by using cross_val_predict.\n",
    "\n",
    "1. For deployment we may prefer and estimator aggregate as the second one, which provide a most consistent prediction accurracy than the first one.\n",
    "2. When you parallelize the process could be interesting to be able to aggregate the results later.\n",
    "\n",
    "# Objective\n",
    "\n",
    "* Create a training function that train the model many time and store the results.\n",
    "* Create a function that collect previous trained model and provide predictions.\n",
    "* I want to do it in parallel using joblib [this library is used to parallelize in Sklearn]"
   ]
  },
  {
   "cell_type": "code",
   "execution_count": 11,
   "metadata": {
    "collapsed": true
   },
   "outputs": [],
   "source": [
    "import tempfile\n",
    "import shutil\n",
    "import os\n",
    "import numpy as np\n",
    "import joblib\n",
    "from joblib import Parallel, delayed\n",
    "from joblib import load, dump\n"
   ]
  },
  {
   "cell_type": "code",
   "execution_count": 12,
   "metadata": {
    "collapsed": true
   },
   "outputs": [],
   "source": [
    "# I am going to assume a can select the number or repeated training models\n",
    "repetitions = 10"
   ]
  },
  {
   "cell_type": "code",
   "execution_count": 13,
   "metadata": {
    "collapsed": false
   },
   "outputs": [
    {
     "data": {
      "text/plain": [
       "((150, 4), (150,))"
      ]
     },
     "execution_count": 13,
     "metadata": {},
     "output_type": "execute_result"
    }
   ],
   "source": [
    "X.shape, y.shape"
   ]
  },
  {
   "cell_type": "code",
   "execution_count": 14,
   "metadata": {
    "collapsed": false
   },
   "outputs": [],
   "source": [
    "    X_train, X_test, y_train, y_test = \\\n",
    "        train_test_split(X, y ,\\\n",
    "                test_size=0.3, random_state=0)"
   ]
  },
  {
   "cell_type": "code",
   "execution_count": 15,
   "metadata": {
    "collapsed": false
   },
   "outputs": [
    {
     "data": {
      "text/plain": [
       "SVC(C=1, cache_size=200, class_weight=None, coef0=0.0,\n",
       "  decision_function_shape='ovr', degree=3, gamma='auto', kernel='linear',\n",
       "  max_iter=-1, probability=False, random_state=None, shrinking=True,\n",
       "  tol=0.001, verbose=False)"
      ]
     },
     "execution_count": 15,
     "metadata": {},
     "output_type": "execute_result"
    }
   ],
   "source": [
    "def function_to_train_model(X,y, model = svm.SVC(kernel='linear', C=1), test_size =0.3,random_state=None):\n",
    "    X_train, X_test, y_train, y_test = \\\n",
    "        train_test_split(X, y ,\\\n",
    "                test_size=test_size, random_state=random_state)\n",
    "\n",
    "\n",
    "    classifier_here = model\n",
    "    classifier_here.fit(X_train, y_train)\n",
    "    y_pred = classifier_here.predict(X)\n",
    "    classifier_here.score(X_test, y_test)\n",
    "    return classifier_here\n",
    "function_to_train_model(X,y, model = svm.SVC(kernel='linear', C=1), test_size =0.3,random_state=None)"
   ]
  },
  {
   "cell_type": "code",
   "execution_count": 16,
   "metadata": {
    "collapsed": true
   },
   "outputs": [],
   "source": [
    "def pickle_models(x, output):\n",
    "    '''\n",
    "    This function write the output to a file\n",
    "    x: Number of model to train\n",
    "    '''\n",
    "    filename = \"model_\"+str(x)\n",
    "    f = open(filename, 'wb')\n",
    "    joblib.dump(output, f)  \n",
    "    #f.write(str(x) + \"\\n\" + str(20-x))\n",
    "    f.close()"
   ]
  },
  {
   "cell_type": "code",
   "execution_count": 17,
   "metadata": {
    "collapsed": false
   },
   "outputs": [],
   "source": [
    "x = 10\n",
    "output = function_to_train_model(X,y, model = svm.SVC(kernel='linear', C=1), test_size =0.3,random_state=None)\n",
    "pickle_models(x, output)"
   ]
  },
  {
   "cell_type": "code",
   "execution_count": null,
   "metadata": {
    "collapsed": true
   },
   "outputs": [],
   "source": []
  },
  {
   "cell_type": "code",
   "execution_count": 21,
   "metadata": {
    "collapsed": false
   },
   "outputs": [
    {
     "name": "stdout",
     "output_type": "stream",
     "text": [
      "model_10\n"
     ]
    }
   ],
   "source": [
    "# Let check the result\n",
    "\n",
    "\n",
    "x = 10\n",
    "filename = \"model_\"+str(x)\n",
    "f = open(filename, 'rb')\n",
    "print(filename)\n",
    "model_here = joblib.load(f)\n",
    "\n",
    "f.close()"
   ]
  },
  {
   "cell_type": "code",
   "execution_count": 22,
   "metadata": {
    "collapsed": true
   },
   "outputs": [],
   "source": [
    "# A function that create the model and picle at the same time\n",
    "def train_pickle_models(x,X,y, model = svm.SVC(kernel='linear', C=1), test_size =0.3,random_state=None):\n",
    "    ''' A function that create the model and picle at the same time'''\n",
    "    output = function_to_train_model(X,y, model = model, test_size =test_size,random_state=random_state)\n",
    "    pickle_models(x, output)"
   ]
  },
  {
   "cell_type": "code",
   "execution_count": 23,
   "metadata": {
    "collapsed": true
   },
   "outputs": [],
   "source": [
    "train_pickle_models(x,X,y, model = svm.SVC(kernel='linear', C=1), test_size =0.3,random_state=None)"
   ]
  },
  {
   "cell_type": "code",
   "execution_count": 25,
   "metadata": {
    "collapsed": false
   },
   "outputs": [
    {
     "name": "stdout",
     "output_type": "stream",
     "text": [
      "(150,)\n"
     ]
    },
    {
     "data": {
      "text/plain": [
       "array([0, 0, 0, 0, 0, 0, 0, 0, 0, 0, 0, 0, 0, 0, 0, 0, 0, 0, 0, 0, 0, 0,\n",
       "       0, 0, 0, 0, 0, 0, 0, 0, 0, 0, 0, 0, 0, 0, 0, 0, 0, 0, 0, 0, 0, 0,\n",
       "       0, 0, 0, 0, 0, 0, 1, 1, 1, 1, 1, 1, 1, 1, 1, 1, 1, 1, 1, 1, 1, 1,\n",
       "       1, 1, 1, 1, 1, 1, 1, 1, 1, 1, 1, 1, 1, 1, 1, 1, 1, 2, 1, 1, 1, 1,\n",
       "       1, 1, 1, 1, 1, 1, 1, 1, 1, 1, 1, 1, 2, 2, 2, 2, 2, 2, 1, 2, 2, 2,\n",
       "       2, 2, 2, 2, 2, 2, 2, 2, 2, 2, 2, 2, 2, 2, 2, 2, 1, 2, 2, 2, 2, 2,\n",
       "       2, 1, 2, 2, 2, 2, 1, 2, 2, 2, 2, 2, 2, 2, 2, 2, 2, 2])"
      ]
     },
     "execution_count": 25,
     "metadata": {},
     "output_type": "execute_result"
    }
   ],
   "source": [
    "# Here a function to predict with the previously pickle mode..\n",
    "def function_to_predict_model(X, model_here = svm.SVC(kernel='linear', C=1)):\n",
    "\n",
    "    classifier_here = model_here\n",
    "    y_pred = classifier_here.predict(X)\n",
    "    return y_pred\n",
    "\n",
    "aux = function_to_predict_model(X,model_here = model_here)\n",
    "print(aux.shape)\n",
    "aux"
   ]
  },
  {
   "cell_type": "markdown",
   "metadata": {},
   "source": [
    "We can write and read model so know let's start thinking about parallelization\n"
   ]
  },
  {
   "cell_type": "code",
   "execution_count": 26,
   "metadata": {
    "collapsed": true
   },
   "outputs": [],
   "source": [
    "# Following example in https://pythonhosted.org/joblib/parallel.html#automated-array-to-memmap-conversion\n",
    "#Let create a temporal folder to store the predicitons\n",
    "folder = tempfile.mkdtemp()\n",
    "predictions_name = os.path.join(folder, 'predictions')"
   ]
  },
  {
   "cell_type": "code",
   "execution_count": 27,
   "metadata": {
    "collapsed": false
   },
   "outputs": [
    {
     "data": {
      "text/plain": [
       "150"
      ]
     },
     "execution_count": 27,
     "metadata": {},
     "output_type": "execute_result"
    }
   ],
   "source": [
    "aux.shape[0]"
   ]
  },
  {
   "cell_type": "code",
   "execution_count": null,
   "metadata": {
    "collapsed": false
   },
   "outputs": [],
   "source": []
  },
  {
   "cell_type": "code",
   "execution_count": 29,
   "metadata": {
    "collapsed": false
   },
   "outputs": [],
   "source": [
    "# To prealloccate the matrices, so I can write in parallel. \n",
    "prediction_results = np.empty([repetitions,aux.shape[0]])\n"
   ]
  },
  {
   "cell_type": "code",
   "execution_count": 30,
   "metadata": {
    "collapsed": false
   },
   "outputs": [],
   "source": [
    "# Pre-allocate a writeable shared memory map as a container for the\n",
    "# results of the parallel computation\n",
    "predictions_storage = np.memmap(predictions_name, dtype=prediction_results.dtype,\n",
    "                 shape=prediction_results.shape, mode='w+')"
   ]
  },
  {
   "cell_type": "code",
   "execution_count": 31,
   "metadata": {
    "collapsed": false
   },
   "outputs": [
    {
     "name": "stdout",
     "output_type": "stream",
     "text": [
      "model_10\n"
     ]
    }
   ],
   "source": [
    "# This function write the results as a rewo in predictions_storage\n",
    "def predict_model_to_memmap(x,predictions_storage):\n",
    "    filename = \"model_\"+str(x)\n",
    "    f = open(filename, 'rb')\n",
    "    print(filename)\n",
    "    model_here = joblib.load(f)\n",
    "    predictions_storage[x-1,:] = function_to_predict_model(X,model_here = model_here)\n",
    "    f.close()\n",
    "predict_model_to_memmap(x,predictions_storage)    "
   ]
  },
  {
   "cell_type": "code",
   "execution_count": 32,
   "metadata": {
    "collapsed": false
   },
   "outputs": [
    {
     "data": {
      "text/plain": [
       "memmap([0., 0., 0., 0., 0., 0., 0., 0., 0., 0., 0., 0., 0., 0., 0., 0.,\n",
       "        0., 0., 0., 0., 0., 0., 0., 0., 0., 0., 0., 0., 0., 0., 0., 0.,\n",
       "        0., 0., 0., 0., 0., 0., 0., 0., 0., 0., 0., 0., 0., 0., 0., 0.,\n",
       "        0., 0., 1., 1., 1., 1., 1., 1., 1., 1., 1., 1., 1., 1., 1., 1.,\n",
       "        1., 1., 1., 1., 1., 1., 2., 1., 2., 1., 1., 1., 1., 1., 1., 1.,\n",
       "        1., 1., 1., 2., 1., 1., 1., 1., 1., 1., 1., 1., 1., 1., 1., 1.,\n",
       "        1., 1., 1., 1., 2., 2., 2., 2., 2., 2., 2., 2., 2., 2., 2., 2.,\n",
       "        2., 2., 2., 2., 2., 2., 2., 2., 2., 2., 2., 2., 2., 2., 2., 2.,\n",
       "        2., 2., 2., 2., 2., 2., 2., 2., 2., 2., 2., 2., 2., 2., 2., 2.,\n",
       "        2., 2., 2., 2., 2., 2.])"
      ]
     },
     "execution_count": 32,
     "metadata": {},
     "output_type": "execute_result"
    }
   ],
   "source": [
    "# Checking the results\n",
    "predictions_storage[9,:]"
   ]
  },
  {
   "cell_type": "code",
   "execution_count": 33,
   "metadata": {
    "collapsed": false
   },
   "outputs": [
    {
     "data": {
      "text/plain": [
       "[None, None, None, None, None, None, None, None, None, None]"
      ]
     },
     "execution_count": 33,
     "metadata": {},
     "output_type": "execute_result"
    }
   ],
   "source": [
    "# TRAIN the model in parallel\n",
    "Parallel(n_jobs=-1)(delayed(train_pickle_models)(x,X,y, model = svm.SVC(kernel='linear', C=1), test_size =0.3,random_state=None)\n",
    "                   for x in range(repetitions))"
   ]
  },
  {
   "cell_type": "code",
   "execution_count": 34,
   "metadata": {
    "collapsed": false
   },
   "outputs": [
    {
     "name": "stdout",
     "output_type": "stream",
     "text": [
      "model_0\n",
      "model_2\n",
      "model_1\n",
      "model_4\n",
      "model_3\n",
      "model_5\n",
      "model_8\n",
      "model_9\n",
      "model_6\n",
      "model_7\n"
     ]
    },
    {
     "data": {
      "text/plain": [
       "[None, None, None, None, None, None, None, None, None, None]"
      ]
     },
     "execution_count": 34,
     "metadata": {},
     "output_type": "execute_result"
    }
   ],
   "source": [
    "# Parallelizing the creationg of predictions\n",
    "Parallel(n_jobs=-1)(delayed(predict_model_to_memmap)(x, predictions_storage)\n",
    "                   for x in range(repetitions))"
   ]
  },
  {
   "cell_type": "code",
   "execution_count": 35,
   "metadata": {
    "collapsed": false
   },
   "outputs": [
    {
     "data": {
      "text/plain": [
       "(10, 150)"
      ]
     },
     "execution_count": 35,
     "metadata": {},
     "output_type": "execute_result"
    }
   ],
   "source": [
    "# Check everything is in predictions_storage\n",
    "predictions_storage.shape"
   ]
  },
  {
   "cell_type": "code",
   "execution_count": 36,
   "metadata": {
    "collapsed": false
   },
   "outputs": [
    {
     "data": {
      "text/plain": [
       "memmap([0., 0., 0., 0., 0., 0., 0., 0., 0., 0., 0., 0., 0., 0., 0., 0.,\n",
       "        0., 0., 0., 0., 0., 0., 0., 0., 0., 0., 0., 0., 0., 0., 0., 0.,\n",
       "        0., 0., 0., 0., 0., 0., 0., 0., 0., 0., 0., 0., 0., 0., 0., 0.,\n",
       "        0., 0., 1., 1., 1., 1., 1., 1., 1., 1., 1., 1., 1., 1., 1., 1.,\n",
       "        1., 1., 1., 1., 1., 1., 2., 1., 1., 1., 1., 1., 1., 1., 1., 1.,\n",
       "        1., 1., 1., 2., 1., 1., 1., 1., 1., 1., 1., 1., 1., 1., 1., 1.,\n",
       "        1., 1., 1., 1., 2., 2., 2., 2., 2., 2., 2., 2., 2., 2., 2., 2.,\n",
       "        2., 2., 2., 2., 2., 2., 2., 2., 2., 2., 2., 2., 2., 2., 2., 2.,\n",
       "        2., 2., 2., 2., 2., 2., 2., 2., 2., 2., 2., 2., 2., 2., 2., 2.,\n",
       "        2., 2., 2., 2., 2., 2.])"
      ]
     },
     "execution_count": 36,
     "metadata": {},
     "output_type": "execute_result"
    }
   ],
   "source": [
    "predictions_storage[9,:]"
   ]
  },
  {
   "cell_type": "code",
   "execution_count": 37,
   "metadata": {
    "collapsed": false
   },
   "outputs": [],
   "source": [
    "# BRing the data to a np array\n",
    "prediction_results = predictions_storage"
   ]
  },
  {
   "cell_type": "code",
   "execution_count": 38,
   "metadata": {
    "collapsed": false
   },
   "outputs": [],
   "source": [
    "# We can delete memmap\n",
    "del predictions_storage\n",
    "try:\n",
    "    shutil.rmtree(folder)\n",
    "except:\n",
    "    print(\"Failed to delete: \" + folder)"
   ]
  },
  {
   "cell_type": "code",
   "execution_count": 39,
   "metadata": {
    "collapsed": false
   },
   "outputs": [],
   "source": [
    "# Now I can aggregate predictions from prediction_results"
   ]
  },
  {
   "cell_type": "code",
   "execution_count": 40,
   "metadata": {
    "collapsed": false
   },
   "outputs": [
    {
     "data": {
      "text/plain": [
       "(10, 150)"
      ]
     },
     "execution_count": 40,
     "metadata": {},
     "output_type": "execute_result"
    }
   ],
   "source": [
    "prediction_results.shape"
   ]
  },
  {
   "cell_type": "code",
   "execution_count": 41,
   "metadata": {
    "collapsed": false
   },
   "outputs": [
    {
     "data": {
      "text/plain": [
       "array([0. , 0. , 0. , 0. , 0. , 0. , 0. , 0. , 0. , 0. , 0. , 0. , 0. ,\n",
       "       0. , 0. , 0. , 0. , 0. , 0. , 0. , 0. , 0. , 0. , 0. , 0. , 0. ,\n",
       "       0. , 0. , 0. , 0. , 0. , 0. , 0. , 0. , 0. , 0. , 0. , 0. , 0. ,\n",
       "       0. , 0. , 0. , 0. , 0. , 0. , 0. , 0. , 0. , 0. , 0. , 1. , 1. ,\n",
       "       1. , 1. , 1. , 1. , 1. , 1. , 1. , 1. , 1. , 1. , 1. , 1. , 1. ,\n",
       "       1. , 1. , 1. , 1. , 1. , 2. , 1. , 1. , 1. , 1. , 1. , 1. , 1. ,\n",
       "       1. , 1. , 1. , 1. , 1. , 2. , 1.3, 1. , 1. , 1. , 1. , 1. , 1. ,\n",
       "       1. , 1. , 1. , 1. , 1. , 1. , 1. , 1. , 1. , 2. , 2. , 2. , 2. ,\n",
       "       2. , 2. , 2. , 2. , 2. , 2. , 2. , 2. , 2. , 2. , 2. , 2. , 2. ,\n",
       "       2. , 2. , 2. , 2. , 2. , 2. , 2. , 2. , 2. , 2. , 2. , 2. , 2. ,\n",
       "       2. , 2. , 2. , 2. , 2. , 2. , 2. , 2. , 2. , 2. , 2. , 2. , 2. ,\n",
       "       2. , 2. , 2. , 2. , 2. , 2. , 2. ])"
      ]
     },
     "execution_count": 41,
     "metadata": {},
     "output_type": "execute_result"
    }
   ],
   "source": [
    "prediction_aggregates = prediction_results.mean(axis =0)\n",
    "prediction_aggregates"
   ]
  },
  {
   "cell_type": "markdown",
   "metadata": {},
   "source": [
    "# Summary\n",
    "prediction_aggregates is giving me average predicted results.\n",
    "\n",
    "# Can I do the same with SKlearn ensembers?\n"
   ]
  },
  {
   "cell_type": "code",
   "execution_count": 42,
   "metadata": {
    "collapsed": false
   },
   "outputs": [
    {
     "data": {
      "text/plain": [
       "(array([ 3.,  0., 14.,  0.,  0., 36.,  0., 31.,  0., 16.]),\n",
       " array([0.93333333, 0.94      , 0.94666667, 0.95333333, 0.96      ,\n",
       "        0.96666667, 0.97333333, 0.98      , 0.98666667, 0.99333333,\n",
       "        1.        ]),\n",
       " <a list of 10 Patch objects>)"
      ]
     },
     "execution_count": 42,
     "metadata": {},
     "output_type": "execute_result"
    },
    {
     "data": {
      "image/png": "[encoded data removed]",
      "text/plain": [
       "<matplotlib.figure.Figure at 0x7f05acacac90>"
      ]
     },
     "metadata": {},
     "output_type": "display_data"
    }
   ],
   "source": [
    "from sklearn.ensemble import BaggingClassifier\n",
    "#Create  function to REPEAT the previous case.\n",
    "def repeat_score_test( X, y,\n",
    "            model = BaggingClassifier(svm.SVC(kernel='linear', C=1)),\n",
    "            test_size=0.4, random_state=None, \n",
    "            repetitions = 5):\n",
    "    '''Create  function to repeat the previous case.'''\n",
    "    \n",
    "    \n",
    "    auxiliar_list = []\n",
    "    for i in range(0,repetitions):\n",
    "        score = score_test(X,y,model =model,test_size=test_size, random_state=random_state)\n",
    "        auxiliar_list.append(score)\n",
    "    return np.asarray(auxiliar_list)\n",
    "scores_model =repeat_score_test( X, y,\n",
    "            model = svm.SVC(kernel='linear', C=1),\n",
    "            test_size=0.4, random_state=None, \n",
    "            repetitions = 100)\n",
    "plt.hist(scores_model) "
   ]
  },
  {
   "cell_type": "code",
   "execution_count": 45,
   "metadata": {
    "collapsed": false
   },
   "outputs": [
    {
     "data": {
      "text/plain": [
       "0.9777777777777777"
      ]
     },
     "execution_count": 45,
     "metadata": {},
     "output_type": "execute_result"
    }
   ],
   "source": [
    "# Checking the quality of the results of one explit\n",
    "clf = BaggingClassifier(svm.SVC(kernel='linear', C=1), n_estimators = 1000, n_jobs= -1)\n",
    "\n",
    "\n",
    "clf.fit(X, y)\n",
    "clf.score(X_test, y_test)  "
   ]
  },
  {
   "cell_type": "markdown",
   "metadata": {},
   "source": [
    "Result in line with previously obtained of 0.98."
   ]
  },
  {
   "cell_type": "code",
   "execution_count": 46,
   "metadata": {
    "collapsed": false
   },
   "outputs": [
    {
     "data": {
      "text/plain": [
       "SVC(C=1, cache_size=200, class_weight=None, coef0=0.0,\n",
       "  decision_function_shape='ovr', degree=3, gamma='auto', kernel='linear',\n",
       "  max_iter=-1, probability=False, random_state=None, shrinking=True,\n",
       "  tol=0.001, verbose=False)"
      ]
     },
     "execution_count": 46,
     "metadata": {},
     "output_type": "execute_result"
    }
   ],
   "source": [
    "clf.base_estimator_"
   ]
  },
  {
   "cell_type": "code",
   "execution_count": 49,
   "metadata": {
    "collapsed": false
   },
   "outputs": [],
   "source": [
    "#clf.estimators_\n",
    "#clf.oob_score_"
   ]
  },
  {
   "cell_type": "code",
   "execution_count": 52,
   "metadata": {
    "collapsed": false
   },
   "outputs": [
    {
     "name": "stdout",
     "output_type": "stream",
     "text": [
      "model_ensembler\n"
     ]
    }
   ],
   "source": [
    "# Saving the model\n",
    "filename = \"model_ensembler\"\n",
    "f = open(filename, 'wb')\n",
    "print(filename)\n",
    "model_here = joblib.dump(clf,f)\n",
    "f.close()"
   ]
  },
  {
   "cell_type": "code",
   "execution_count": null,
   "metadata": {
    "collapsed": true
   },
   "outputs": [],
   "source": []
  }
 ],
 "metadata": {
  "anaconda-cloud": {},
  "kernelspec": {
   "display_name": "Python [conda env:py36]",
   "language": "python",
   "name": "conda-env-py36-py"
  },
  "language_info": {
   "codemirror_mode": {
    "name": "ipython",
    "version": 2
   },
   "file_extension": ".py",
   "mimetype": "text/x-python",
   "name": "python",
   "nbconvert_exporter": "python",
   "pygments_lexer": "ipython2",
   "version": "2.7.14"
  }
 },
 "nbformat": 4,
 "nbformat_minor": 1
}
